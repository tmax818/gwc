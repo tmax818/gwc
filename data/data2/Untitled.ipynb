{
 "cells": [
  {
   "cell_type": "code",
   "execution_count": 1,
   "metadata": {},
   "outputs": [
    {
     "ename": "DatasetException",
     "evalue": "Error! Could not find a \"C:\\Users\\Tyler\\gwc\\data\\data2\\classics.db\" file. Make sure that there is a \"C:\\Users\\Tyler\\gwc\\data\\data2\\classics.db\" in the same directory as \"classics.py\"! Spelling is very important here.",
     "output_type": "error",
     "traceback": [
      "\u001b[1;31m---------------------------------------------------------------------------\u001b[0m",
      "\u001b[1;31mDatasetException\u001b[0m                          Traceback (most recent call last)",
      "\u001b[1;32m<ipython-input-1-4ba31d420b52>\u001b[0m in \u001b[0;36m<module>\u001b[1;34m\u001b[0m\n\u001b[1;32m----> 1\u001b[1;33m \u001b[1;32mimport\u001b[0m \u001b[0mclassics\u001b[0m\u001b[1;33m\u001b[0m\u001b[1;33m\u001b[0m\u001b[0m\n\u001b[0m",
      "\u001b[1;32m~\\gwc\\data\\data2\\classics.py\u001b[0m in \u001b[0;36m<module>\u001b[1;34m\u001b[0m\n\u001b[0;32m    114\u001b[0m                                           \"classics.db\")\n\u001b[0;32m    115\u001b[0m \u001b[1;32mif\u001b[0m \u001b[1;32mnot\u001b[0m \u001b[0m_os\u001b[0m\u001b[1;33m.\u001b[0m\u001b[0maccess\u001b[0m\u001b[1;33m(\u001b[0m\u001b[0m_Constants\u001b[0m\u001b[1;33m.\u001b[0m\u001b[0m_DATABASE_NAME\u001b[0m\u001b[1;33m,\u001b[0m \u001b[0m_os\u001b[0m\u001b[1;33m.\u001b[0m\u001b[0mF_OK\u001b[0m\u001b[1;33m)\u001b[0m\u001b[1;33m:\u001b[0m\u001b[1;33m\u001b[0m\u001b[1;33m\u001b[0m\u001b[0m\n\u001b[1;32m--> 116\u001b[1;33m     \u001b[1;32mraise\u001b[0m \u001b[0mDatasetException\u001b[0m\u001b[1;33m(\u001b[0m\u001b[1;34m\"Error! Could not find a \\\"{0}\\\" file. Make sure that there is a \\\"{0}\\\" in the same directory as \\\"{1}.py\\\"! Spelling is very important here.\"\u001b[0m\u001b[1;33m.\u001b[0m\u001b[0mformat\u001b[0m\u001b[1;33m(\u001b[0m\u001b[0m_Constants\u001b[0m\u001b[1;33m.\u001b[0m\u001b[0m_DATABASE_NAME\u001b[0m\u001b[1;33m,\u001b[0m \u001b[0m__name__\u001b[0m\u001b[1;33m)\u001b[0m\u001b[1;33m)\u001b[0m\u001b[1;33m\u001b[0m\u001b[1;33m\u001b[0m\u001b[0m\n\u001b[0m\u001b[0;32m    117\u001b[0m \u001b[1;32melif\u001b[0m \u001b[1;32mnot\u001b[0m \u001b[0m_os\u001b[0m\u001b[1;33m.\u001b[0m\u001b[0maccess\u001b[0m\u001b[1;33m(\u001b[0m\u001b[0m_Constants\u001b[0m\u001b[1;33m.\u001b[0m\u001b[0m_DATABASE_NAME\u001b[0m\u001b[1;33m,\u001b[0m \u001b[0m_os\u001b[0m\u001b[1;33m.\u001b[0m\u001b[0mR_OK\u001b[0m\u001b[1;33m)\u001b[0m\u001b[1;33m:\u001b[0m\u001b[1;33m\u001b[0m\u001b[1;33m\u001b[0m\u001b[0m\n\u001b[0;32m    118\u001b[0m     \u001b[1;32mraise\u001b[0m \u001b[0mDatasetException\u001b[0m\u001b[1;33m(\u001b[0m\u001b[1;34m\"Error! Could not read the \\\"{0}\\\" file. Make sure that it readable by changing its permissions. You may need to get help from your instructor.\"\u001b[0m\u001b[1;33m.\u001b[0m\u001b[0mformat\u001b[0m\u001b[1;33m(\u001b[0m\u001b[0m_Constants\u001b[0m\u001b[1;33m.\u001b[0m\u001b[0m_DATABASE_NAME\u001b[0m\u001b[1;33m,\u001b[0m \u001b[0m__name__\u001b[0m\u001b[1;33m)\u001b[0m\u001b[1;33m)\u001b[0m\u001b[1;33m\u001b[0m\u001b[1;33m\u001b[0m\u001b[0m\n",
      "\u001b[1;31mDatasetException\u001b[0m: Error! Could not find a \"C:\\Users\\Tyler\\gwc\\data\\data2\\classics.db\" file. Make sure that there is a \"C:\\Users\\Tyler\\gwc\\data\\data2\\classics.db\" in the same directory as \"classics.py\"! Spelling is very important here."
     ]
    }
   ],
   "source": [
    "import classics\n"
   ]
  },
  {
   "cell_type": "code",
   "execution_count": null,
   "metadata": {},
   "outputs": [],
   "source": []
  }
 ],
 "metadata": {
  "kernelspec": {
   "display_name": "Python 3",
   "language": "python",
   "name": "python3"
  },
  "language_info": {
   "codemirror_mode": {
    "name": "ipython",
    "version": 3
   },
   "file_extension": ".py",
   "mimetype": "text/x-python",
   "name": "python",
   "nbconvert_exporter": "python",
   "pygments_lexer": "ipython3",
   "version": "3.7.3"
  }
 },
 "nbformat": 4,
 "nbformat_minor": 2
}
